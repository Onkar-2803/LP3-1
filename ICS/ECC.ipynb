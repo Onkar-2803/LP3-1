{
  "nbformat": 4,
  "nbformat_minor": 0,
  "metadata": {
    "colab": {
      "name": "ECC.ipynb",
      "provenance": [],
      "collapsed_sections": []
    },
    "kernelspec": {
      "name": "python3",
      "display_name": "Python 3"
    },
    "language_info": {
      "name": "python"
    }
  },
  "cells": [
    {
      "cell_type": "markdown",
      "metadata": {
        "id": "0EyqzZtLHMIP"
      },
      "source": [
        "# Problem Statement\n",
        "Implementation of RSA"
      ]
    },
    {
      "cell_type": "markdown",
      "metadata": {
        "id": "xknjIuJZxAfZ"
      },
      "source": [
        "#Elliptic Curve Class"
      ]
    },
    {
      "cell_type": "code",
      "metadata": {
        "id": "oWMVHTROEduF"
      },
      "source": [
        "INF_POINT = None\n",
        "\n",
        "class EllipticCurve:\n",
        "  \n",
        "\tdef __init__(self, p, a, b):\n",
        "\t\tself.p = p\n",
        "\t\tself.a = a\n",
        "\t\tself.b = b\n",
        "\n",
        "\n",
        "\tdef addition(self, P1, P2):\n",
        "\t\tif P1 == INF_POINT:\n",
        "\t\t\treturn P2\n",
        "\t\tif P2 == INF_POINT:\n",
        "\t\t\treturn P1\n",
        "\n",
        "\t\t(x1, y1) = P1\n",
        "\t\t(x2, y2) = P2\n",
        "\n",
        "\t\tif self.equal_modp(x1, x2) and self.equal_modp(y1, -y2):\n",
        "\t\t\treturn INF_POINT\n",
        "\n",
        "\t\tif self.equal_modp(x1, x2) and self.equal_modp(y1, y2):\n",
        "\t\t\tu = self.reduce_modp((3 * x1 * x1 + self.a) * self.inverse_modp(2 * y1))\n",
        "\t\telse:\n",
        "\t\t\tu = self.reduce_modp((y1 - y2) * self.inverse_modp(x1 - x2))\n",
        "\n",
        "\t\tv = self.reduce_modp(y1 - u * x1)\n",
        "\t\tx3 = self.reduce_modp(u * u - x1 - x2)\n",
        "\t\ty3 = self.reduce_modp(-u * x3 - v)\n",
        "\t\treturn (x3, y3)\n",
        "\n",
        "\n",
        "\tdef multiple(self, k, P):\n",
        "\t\tQ = INF_POINT\n",
        "\t\tif k == 0:\n",
        "\t\t\treturn Q\n",
        "\t\twhile k != 0:\n",
        "\t\t\tif k & 1 != 0:\n",
        "\t\t\t\tQ = self.addition(Q, P)\n",
        "\t\t\tP = self.addition(P, P)\n",
        "\t\t\tk >>= 1\n",
        "\t\treturn Q\n",
        "\n",
        "\n",
        "\tdef is_point_on_curve(self, x, y):\n",
        "\t\treturn self.equal_modp(y * y, x * x * x + self.a * x + self.b)\n",
        "\n",
        "\n",
        "\t# helper functions\n",
        "\n",
        "\tdef reduce_modp(self, x):\n",
        "\t\treturn x % self.p\n",
        "\n",
        "\n",
        "\tdef equal_modp(self, x, y):\n",
        "\t\treturn self.reduce_modp(x - y) == 0\n",
        "\n",
        "\n",
        "\tdef inverse_modp(self, x):\n",
        "\t\tif self.reduce_modp(x) == 0:\n",
        "\t\t\treturn None\n",
        "\t\treturn pow(x, p - 2, p)\n",
        "\n"
      ],
      "execution_count": 1,
      "outputs": []
    },
    {
      "cell_type": "code",
      "metadata": {
        "id": "WYjxYHG7flUA"
      },
      "source": [
        "#Elliptic Curve\n",
        "p = 26959946667150639794667015087019630673557916260026308143510066298881\n",
        "a = -3\n",
        "b = 18958286285566608000408668544493926415504680968679321075787234672564\n",
        "P224 = EllipticCurve(p, a, b)\n",
        "\n",
        "#Generator Point P\n",
        "Px = 19277929113566293071110308034699488026831934219452440156649784352033\n",
        "Py = 19926808758034470970197974370888749184205991990603949537637343198772\n",
        "P = (Px, Py)\n",
        "\n",
        "#limit\n",
        "n = 26959946667150639794667015087019625940457807714424391721682722368061"
      ],
      "execution_count": 2,
      "outputs": []
    },
    {
      "cell_type": "markdown",
      "metadata": {
        "id": "Ko96XaIJwvo-"
      },
      "source": [
        "# Key generation (Receiver Side)"
      ]
    },
    {
      "cell_type": "code",
      "metadata": {
        "id": "SoT-zJcVq6Kr"
      },
      "source": [
        "# Q is the public key\n",
        "# d is the private key\n",
        "\n",
        "def key_generation():\n",
        "  from random import randint\n",
        "  d = randint(1, n-1)\n",
        "  Q = P224.multiple(d, P)\n",
        "  return Q, d\n",
        "\n",
        "Q, d = key_generation()"
      ],
      "execution_count": 3,
      "outputs": []
    },
    {
      "cell_type": "markdown",
      "metadata": {
        "id": "kNX4Id4uiobE"
      },
      "source": [
        "#Encryption and Decryption of a single character"
      ]
    },
    {
      "cell_type": "code",
      "metadata": {
        "id": "JuO6q2JnrXhG"
      },
      "source": [
        "def encryption(m, Q):\n",
        "\n",
        "  from random import randint\n",
        "\n",
        "  # Encode the message as a point\n",
        "  M = (ord(m), 1)\n",
        "\n",
        "  # Random Integer\n",
        "  k = randint(1, n-1)\n",
        "\n",
        "  #Encryption using Receiver's Public Key\n",
        "\n",
        "  # C1 = k*P\n",
        "  C1 = P224.multiple(k, P)\n",
        "\n",
        "  # C2 = M + k*Q\n",
        "  C2 = P224.multiple(k, Q)\n",
        "  C2 = (C2[0] + M[0], C2[1] + M[1])\n",
        "  \n",
        "  return C1, C2\n",
        "\n",
        "C1, C2 = encryption('F', Q)"
      ],
      "execution_count": 4,
      "outputs": []
    },
    {
      "cell_type": "code",
      "metadata": {
        "colab": {
          "base_uri": "https://localhost:8080/",
          "height": 35
        },
        "id": "hrNXrMHusRRZ",
        "outputId": "86c60cb7-befc-4071-9a23-7979e124e4fa"
      },
      "source": [
        "def decryption(C1, C2, d):\n",
        "  De = P224.multiple(d, C1)\n",
        "  De = (C2[0] - De[0], C2[1] - De[1])\n",
        "  return chr(De[0])\n",
        "\n",
        "de = decryption(C1, C2, d)\n",
        "de"
      ],
      "execution_count": 5,
      "outputs": [
        {
          "output_type": "execute_result",
          "data": {
            "application/vnd.google.colaboratory.intrinsic+json": {
              "type": "string"
            },
            "text/plain": [
              "'F'"
            ]
          },
          "metadata": {
            "tags": []
          },
          "execution_count": 5
        }
      ]
    },
    {
      "cell_type": "markdown",
      "metadata": {
        "id": "FtJvvqHbwqiu"
      },
      "source": [
        "# Encryption and Decryption of a string"
      ]
    },
    {
      "cell_type": "code",
      "metadata": {
        "id": "XXIUZjdxsruu"
      },
      "source": [
        "def encrypt_text(message, Q):\n",
        "  C1_arr, C2_arr = [], []\n",
        "  for character in message:\n",
        "    C1, C2 = encryption(character, Q)\n",
        "    C1_arr.append(C1)\n",
        "    C2_arr.append(C2)\n",
        "  return C1_arr, C2_arr\n",
        "\n",
        "C1_arr, C2_arr = encrypt_text('Sos1!', Q)"
      ],
      "execution_count": 6,
      "outputs": []
    },
    {
      "cell_type": "code",
      "metadata": {
        "colab": {
          "base_uri": "https://localhost:8080/",
          "height": 35
        },
        "id": "6uU6Cw_1tved",
        "outputId": "f608b001-0832-427b-f35e-bdaada6f0ccc"
      },
      "source": [
        "def decrypt_text(C1_arr, C2_arr, d):\n",
        "  decrypted_text = ''\n",
        "  for C1, C2 in zip(C1_arr, C2_arr):\n",
        "    de = decryption(C1, C2, d)\n",
        "    decrypted_text += de\n",
        "  return decrypted_text\n",
        "\n",
        "decrypt_text(C1_arr, C2_arr, d)"
      ],
      "execution_count": 7,
      "outputs": [
        {
          "output_type": "execute_result",
          "data": {
            "application/vnd.google.colaboratory.intrinsic+json": {
              "type": "string"
            },
            "text/plain": [
              "'Sos1!'"
            ]
          },
          "metadata": {
            "tags": []
          },
          "execution_count": 7
        }
      ]
    }
  ]
}