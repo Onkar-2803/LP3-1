{
  "nbformat": 4,
  "nbformat_minor": 0,
  "metadata": {
    "colab": {
      "name": "RSA.ipynb",
      "provenance": [],
      "collapsed_sections": []
    },
    "kernelspec": {
      "name": "python3",
      "display_name": "Python 3"
    }
  },
  "cells": [
    {
      "cell_type": "markdown",
      "metadata": {
        "id": "x_C8-EtaxOuc"
      },
      "source": [
        "# Problem Statement\n",
        "Implementation of RSA"
      ]
    },
    {
      "cell_type": "markdown",
      "metadata": {
        "id": "ypHFLwnx53L0"
      },
      "source": [
        "#RSA Key Points\n",
        "\n",
        "* Rivest, Shamir, Adleman\n",
        "* Asymmetric Encryption Algorithm\n",
        "* Encryption algorithm\n",
        "* Works over insecure channel\n",
        "* Factorization of large numbers\n",
        "* Both public and private key belong to receiver\n",
        "* Relatively Prime Numbers\n",
        "* Relatively Prime Numbers have an inverse modulo\n",
        "\n",
        "* Advantages\n",
        "  * easy to share public key\n",
        "\n",
        "* Disadvantages\n",
        "  * Computationally expensive"
      ]
    },
    {
      "cell_type": "markdown",
      "metadata": {
        "id": "6Mkho6qP9Xw4"
      },
      "source": [
        "# RSA against Man In The Middle Attack \n",
        "\n",
        "Suppose intruder gets his hands on cipher c\n",
        "\n",
        "* c = cipher\n",
        "* p = plain\n",
        "* d = decryption exponent\n",
        "* e = encryption exponent\n",
        "* n = modulus\n",
        "* public_key = (n, e)\n",
        "* private_key = (n, d)\n",
        "\n",
        "\n",
        "### To generate Plain text, Intruder needs d\n",
        "* p = c^d mod n\n",
        "\n",
        "### To generate d, Intruder needs Φ\n",
        "* d = modular_inverse(e, Φ)\n",
        "\n",
        "### Factorization of Φ\n",
        "* Φ = (p-1) * (q-1) (one of many factorizations)\n",
        "\n",
        "### p,q can be obtained by factorizing n\n",
        "* n = p * q\n",
        "* Factorizing n is computationally delayed"
      ]
    },
    {
      "cell_type": "markdown",
      "metadata": {
        "id": "SyNNB_mXixdz"
      },
      "source": [
        "#Private and Public Key Generation RSA"
      ]
    },
    {
      "cell_type": "code",
      "metadata": {
        "id": "JdZePPQ9cV-J"
      },
      "source": [
        "'''\n",
        "Public Key is (e,n)\n",
        "Private Key is (d,n)\n",
        "'''\n",
        "def generate_keys():\n",
        "\n",
        "  from random import randint\n",
        "  from math import gcd\n",
        "  from sympy import mod_inverse\n",
        "\n",
        "  # Generate Two unequal Large Primes of comparable size\n",
        "  p, q = 877, 751\n",
        "  #p, q = 6971, 6299\n",
        "\n",
        "  # For large p and q, n will take centuries to factorize\n",
        "  n = p*q\n",
        "\n",
        "  # phi function\n",
        "  fi_n = (p-1)*(q-1)\n",
        "  \n",
        "  # e and fi_n are relatively prime if their gcd is 1\n",
        "  while True:\n",
        "    e = randint(1, fi_n)\n",
        "    if gcd(fi_n, e) == 1:\n",
        "      break\n",
        "  \n",
        "  # inverse modulo exists iff e and fi_n are relatively prime\n",
        "  # Modular Inverse\n",
        "  d = mod_inverse(e, fi_n)\n",
        "\n",
        "  return (e,n), (d,n)\n",
        "\n",
        "\n",
        "public_key, private_key = generate_keys()"
      ],
      "execution_count": 1,
      "outputs": []
    },
    {
      "cell_type": "markdown",
      "metadata": {
        "id": "Py3XNpPEi1ru"
      },
      "source": [
        "#Encryption and Decryption of a single character/integer"
      ]
    },
    {
      "cell_type": "code",
      "metadata": {
        "colab": {
          "base_uri": "https://localhost:8080/"
        },
        "id": "oGqpiqg5674G",
        "outputId": "b7452b1b-8c28-45c0-e0dc-122bc3c46f9c"
      },
      "source": [
        "def encryption(m, public_key):\n",
        "  e, n = public_key\n",
        "  c = m**e % n\n",
        "  return c\n",
        "\n",
        "c = encryption(ord('A'), public_key)\n",
        "c"
      ],
      "execution_count": 2,
      "outputs": [
        {
          "output_type": "execute_result",
          "data": {
            "text/plain": [
              "354708"
            ]
          },
          "metadata": {
            "tags": []
          },
          "execution_count": 2
        }
      ]
    },
    {
      "cell_type": "code",
      "metadata": {
        "colab": {
          "base_uri": "https://localhost:8080/",
          "height": 35
        },
        "id": "rGuuI9lR8Uhq",
        "outputId": "475f4f2b-38e7-4913-96d1-0a3e0a4f1c54"
      },
      "source": [
        "def decryption(c, private_key):\n",
        "  d, n = private_key\n",
        "  p = c**d % n\n",
        "  return p\n",
        "\n",
        "p = decryption(c, private_key)\n",
        "chr(p)"
      ],
      "execution_count": 3,
      "outputs": [
        {
          "output_type": "execute_result",
          "data": {
            "application/vnd.google.colaboratory.intrinsic+json": {
              "type": "string"
            },
            "text/plain": [
              "'A'"
            ]
          },
          "metadata": {
            "tags": []
          },
          "execution_count": 3
        }
      ]
    },
    {
      "cell_type": "markdown",
      "metadata": {
        "id": "bLDKEbzDiNlO"
      },
      "source": [
        "#Encryption and Decryption of a string"
      ]
    },
    {
      "cell_type": "code",
      "metadata": {
        "colab": {
          "base_uri": "https://localhost:8080/",
          "height": 35
        },
        "id": "9PLqIvaBhGKY",
        "outputId": "c33975ce-1866-40a7-ca59-160a60413dd3"
      },
      "source": [
        "def encrypt_text(plain_text, public_key):\n",
        "  cipher_text = ''\n",
        "  for character in plain_text:\n",
        "    cipher_text += chr(encryption(ord(character), public_key))\n",
        "  return cipher_text\n",
        "\n",
        "cipher_text = encrypt_text('Sos1!', public_key)\n",
        "cipher_text"
      ],
      "execution_count": 4,
      "outputs": [
        {
          "output_type": "execute_result",
          "data": {
            "application/vnd.google.colaboratory.intrinsic+json": {
              "type": "string"
            },
            "text/plain": [
              "'\\U0007ccb6\\U0009c819\\udd6e\\U00068e98\\U0004a777'"
            ]
          },
          "metadata": {
            "tags": []
          },
          "execution_count": 4
        }
      ]
    },
    {
      "cell_type": "code",
      "metadata": {
        "colab": {
          "base_uri": "https://localhost:8080/",
          "height": 35
        },
        "id": "UjACtkZOhwuf",
        "outputId": "fba093c6-9cdb-417e-e16a-12cb30b2a5a0"
      },
      "source": [
        "def decrypt_text(cipher_text, private_key):\n",
        "  decrypted_text = ''\n",
        "  for character in cipher_text:\n",
        "    decrypted_text += chr(encryption(ord(character), private_key))\n",
        "  return decrypted_text\n",
        "\n",
        "decrypted_text = decrypt_text(cipher_text, private_key)\n",
        "decrypted_text"
      ],
      "execution_count": 5,
      "outputs": [
        {
          "output_type": "execute_result",
          "data": {
            "application/vnd.google.colaboratory.intrinsic+json": {
              "type": "string"
            },
            "text/plain": [
              "'Sos1!'"
            ]
          },
          "metadata": {
            "tags": []
          },
          "execution_count": 5
        }
      ]
    },
    {
      "cell_type": "markdown",
      "metadata": {
        "id": "Ha1cguA2Iunt"
      },
      "source": [
        "## Test Cases"
      ]
    },
    {
      "cell_type": "code",
      "metadata": {
        "colab": {
          "base_uri": "https://localhost:8080/"
        },
        "id": "y9N2mLr4H_93",
        "outputId": "e52a5c6c-9938-421a-99f9-6426da4f1f49"
      },
      "source": [
        "plain_text = 'Sos1!'\n",
        "cipher_text = encrypt_text(plain_text, public_key)\n",
        "decrypted_text = decrypt_text(cipher_text, private_key)\n",
        "\n",
        "print('Plain Text = ', plain_text)\n",
        "print('Decryption Text = ', decrypted_text)"
      ],
      "execution_count": 9,
      "outputs": [
        {
          "output_type": "stream",
          "text": [
            "Plain Text =  Sos1!\n",
            "Decryption Text =  Sos1!\n"
          ],
          "name": "stdout"
        }
      ]
    },
    {
      "cell_type": "code",
      "metadata": {
        "colab": {
          "base_uri": "https://localhost:8080/"
        },
        "id": "kCWj76c-IQqo",
        "outputId": "82a658b3-565b-4220-ae9c-d865d26f8a5c"
      },
      "source": [
        "plain_text = 'Last Assignment woohoo'\n",
        "cipher_text = encrypt_text(plain_text, public_key)\n",
        "decrypted_text = decrypt_text(cipher_text, private_key)\n",
        "\n",
        "print('Plain Text = ', plain_text)\n",
        "print('Decryption Text = ', decrypted_text)"
      ],
      "execution_count": 10,
      "outputs": [
        {
          "output_type": "stream",
          "text": [
            "Plain Text =  Last Assignment woohoo\n",
            "Decryption Text =  Last Assignment woohoo\n"
          ],
          "name": "stdout"
        }
      ]
    },
    {
      "cell_type": "code",
      "metadata": {
        "colab": {
          "base_uri": "https://localhost:8080/"
        },
        "id": "SQKRJBNWIWIt",
        "outputId": "3bc9a333-704c-44e8-949c-80a4d6f772a8"
      },
      "source": [
        "plain_text = ''\n",
        "cipher_text = encrypt_text(plain_text, public_key)\n",
        "decrypted_text = decrypt_text(cipher_text, private_key)\n",
        "\n",
        "print('Plain Text = ', plain_text)\n",
        "print('Cipher Text = ', cipher_text)\n",
        "print('Decryption Text = ', decrypted_text)"
      ],
      "execution_count": 8,
      "outputs": [
        {
          "output_type": "stream",
          "text": [
            "Plain Text =  \n",
            "Cipher Text =  \n",
            "Decryption Text =  \n"
          ],
          "name": "stdout"
        }
      ]
    }
  ]
}