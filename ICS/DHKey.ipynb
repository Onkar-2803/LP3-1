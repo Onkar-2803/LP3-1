{
  "nbformat": 4,
  "nbformat_minor": 0,
  "metadata": {
    "colab": {
      "name": "DHKey.ipynb",
      "provenance": [],
      "collapsed_sections": []
    },
    "kernelspec": {
      "name": "python3",
      "display_name": "Python 3"
    },
    "language_info": {
      "name": "python"
    }
  },
  "cells": [
    {
      "cell_type": "markdown",
      "metadata": {
        "id": "6_5ZhRuY5xvO"
      },
      "source": [
        "# Problem Statement\n",
        "Write a program to implement Diffie Hellman Key Exchange Algorithm"
      ]
    },
    {
      "cell_type": "markdown",
      "metadata": {
        "id": "dRlJG0zT6vdZ"
      },
      "source": [
        "#DH Key Exchange Key Points\n",
        "\n",
        "* Key Exchange Algorithm\n",
        "* Not an encryption algorithm\n",
        "* Share key over an insecure channel\n",
        "* key can be further used as a symmetric key\n",
        "* Discrete Logarithm Problem\n",
        "* (x^a)^b = x^(a*b)\n",
        "\n",
        "* Advantages\n",
        "  * The sender and receiver don’t need any prior knowledge of each other.\n",
        "  * Once the keys are exchanged, the communication of data can be done through an insecure channel.\n",
        "  * The sharing of the secret key is safe.\n",
        "\n",
        "* Disadvantages\n",
        "  * The algorithm can not be used for any asymmetric key exchange.\n",
        "  * Similarly, it can not be used for signing digital signatures.\n",
        "  * Since it doesn’t authenticate any party in the transmission."
      ]
    },
    {
      "cell_type": "code",
      "metadata": {
        "id": "wXttX6Qr6yog"
      },
      "source": [
        "class Person:\n",
        "\n",
        "  #get prime number (q) and primitive root (alpha)\n",
        "  def __init__(self,prime,root):\n",
        "\n",
        "    assert root<prime\n",
        "    self.q = prime\n",
        "    self.alpha = root\n",
        "    self.generate_private_key()\n",
        "    self.generate_public_key()\n",
        "\n",
        "    #These attributes are modified after key exchange\n",
        "    self.received = False\n",
        "    self.y_other = ''\n",
        "\n",
        "\n",
        "  #private key is a random number between 1 and q-1\n",
        "  #name mangling to avoid access\n",
        "  def generate_private_key(self):\n",
        "    from random import randint\n",
        "    self.__x_priv = randint(1,self.q-1)\n",
        "\n",
        "\n",
        "  #public_key = alpha^private_key mod prime \n",
        "  def generate_public_key(self):\n",
        "    self.y_pub = self.alpha**self.__x_priv % self.q\n",
        "\n",
        "\n",
        "  # secret key generated after receiving public key from the other party\n",
        "  # secret_key = y_other^private_key mod prime\n",
        "  def generate_secret_key(self):\n",
        "    self.__s_priv = self.y_other**self.__x_priv % self.q\n",
        "\n",
        "\n",
        "\n",
        "def key_exchange(person1, person2):\n",
        "  person1.received, person2.received = True, True\n",
        "  person1.y_other, person2.y_other = person2.y_pub, person1.y_pub\n",
        "\n",
        "\n",
        "def generate_secret_key(person1, person2):\n",
        "  try:\n",
        "    assert person1.y_pub == person2.y_other\n",
        "    assert person2.y_pub == person1.y_other\n",
        "    assert person1.received == True\n",
        "    assert person2.received == True\n",
        "    person1.generate_secret_key()\n",
        "    person2.generate_secret_key()\n",
        "    assert person1._Person__s_priv == person2._Person__s_priv\n",
        "  except AssertionError as err:\n",
        "    print(err)"
      ],
      "execution_count": 3,
      "outputs": []
    },
    {
      "cell_type": "code",
      "metadata": {
        "id": "PAcnm81E9GNa",
        "colab": {
          "base_uri": "https://localhost:8080/"
        },
        "outputId": "59db8dd6-1a92-465b-cabd-249801997329"
      },
      "source": [
        "prime = 8191\n",
        "root = 17\n",
        "\n",
        "print('Prime number =',prime)\n",
        "print('Primitive root =',root)\n",
        "\n",
        "# Generate Private Keys\n",
        "alice = Person(prime, root)\n",
        "bob = Person(prime, root)\n",
        "print('Alice Private Key = ',alice._Person__x_priv)\n",
        "print('Alice Public Key = ',alice.y_pub)\n",
        "print('Bob Private Key = ',bob._Person__x_priv)\n",
        "print('Bob Public Key = ',bob.y_pub)\n",
        "print()\n",
        "\n",
        "print('...Key Exchange...')\n",
        "# Exchange Public Keys\n",
        "key_exchange(alice, bob)\n",
        "\n",
        "# Generate Secret Keys\n",
        "generate_secret_key(alice, bob)\n",
        "print('Alice Shared Key = ',alice._Person__s_priv)\n",
        "print('Bob Shared Key = ',bob._Person__s_priv)"
      ],
      "execution_count": 4,
      "outputs": [
        {
          "output_type": "stream",
          "text": [
            "Prime number = 8191\n",
            "Primitive root = 17\n",
            "Alice Private Key =  2767\n",
            "Alice Public Key =  7946\n",
            "Bob Private Key =  2335\n",
            "Bob Public Key =  742\n",
            "\n",
            "...Key Exchange...\n",
            "Alice Shared Key =  3986\n",
            "Bob Shared Key =  3986\n"
          ],
          "name": "stdout"
        }
      ]
    }
  ]
}