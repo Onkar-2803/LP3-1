{
  "nbformat": 4,
  "nbformat_minor": 0,
  "metadata": {
    "colab": {
      "name": "KNN.ipynb",
      "provenance": [],
      "collapsed_sections": [
        "KH2IQ4UQ-tJP",
        "KhMIwdW7E9VF"
      ]
    },
    "kernelspec": {
      "name": "python3",
      "display_name": "Python 3"
    }
  },
  "cells": [
    {
      "cell_type": "markdown",
      "metadata": {
        "id": "2sKSjUs2UvTm"
      },
      "source": [
        "## Problem Statement\n",
        "\n",
        "### In the following diagram let blue circles indicate positive examples and orange square indicate negative examples. This assignment wants to use k-NN algorithm for classifying the points. If k=3, find the class of the point (6,6). Extend the same example for Distance-Weighted k-NN\n",
        "\n",
        "\n",
        "![WhatsApp Image 2021-02-25 at 2.06.42 PM.jpeg](data:image/jpeg;base64,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)"
      ]
    },
    {
      "cell_type": "markdown",
      "metadata": {
        "id": "pmpom780IrQm"
      },
      "source": [
        "## KNN Key points\n",
        "\n",
        "* k nearest neighbours\n",
        "\n",
        "* make prediction based on k number of nearest neighbours\n",
        "\n",
        "* non parametric\n",
        "\n",
        "* used for classification and regression\n",
        "\n",
        "* distance metric - euclidean, manhattan\n",
        "\n",
        "* lazy learning\n",
        "\n",
        "* no training period\n",
        "\n",
        "* Advantages\n",
        "  1. intuitive algorithm\n",
        "  2. can be used for classification and regression\n",
        "\n",
        "* Disadvantages\n",
        "  1. Time consuming for large dataset\n",
        "  2. Curse of dimensionality\n",
        "  3. Sensitive to noisy data, missing values, outliers\n",
        "\n",
        "* Application\n",
        "  1. Recommendation Systems\n",
        "\n",
        "* Choosing the right value of K\n",
        "  1. Choose odd value of k to avoid ties\n",
        "  2. k can be taken as square root of N, where N is the number of samples in the dataset\n",
        "  3. Choose K which gives least error"
      ]
    },
    {
      "cell_type": "markdown",
      "metadata": {
        "id": "fNhDzttNXrO_"
      },
      "source": [
        "## Algorithm\n",
        "\n",
        "1. Load the data\n",
        "\n",
        "2. k := chosen number of neighbors\n",
        "3. p := chosen minkowski order\n",
        "4. collection := empty list\n",
        "\n",
        "4. For each instance in dataset\n",
        "\n",
        " 5.1. Calculate the minkowski distance between the query and instance\n",
        "\n",
        " 5.2. Add the distance and the target of the instance to collection\n",
        "\n",
        "6. Sort the collection in ascending order by distance\n",
        "7. Pick the first K entries from the sorted collection\n",
        "8. Get the target of the selected K entries\n",
        "9. if knn type is normal then \n",
        "  \n",
        "  9.1 return mode of the targets of K entries\n",
        "\n",
        "10. if knn type is weighted then\n",
        "\n",
        "  10.1 return target with the highest weighted sum"
      ]
    },
    {
      "cell_type": "markdown",
      "metadata": {
        "id": "7vjDfR4NIS2x"
      },
      "source": [
        "## Minkowski Distance\n",
        "1. For Manhattan Distance, p = 1\n",
        "2. For Euclidean Distance, p = 2\n",
        "\n",
        "![minkowski.png](data:image/png;base64,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)"
      ]
    },
    {
      "cell_type": "markdown",
      "metadata": {
        "id": "ZNHt0xsiMEzB"
      },
      "source": [
        "## Weight for Distance weighted KNN\n",
        "\n",
        "### weight = 1/(distance + c)"
      ]
    },
    {
      "cell_type": "markdown",
      "metadata": {
        "id": "KhMIwdW7E9VF"
      },
      "source": [
        "## Source Code"
      ]
    },
    {
      "cell_type": "code",
      "metadata": {
        "id": "oMVawFGFNcap",
        "colab": {
          "base_uri": "https://localhost:8080/"
        },
        "outputId": "02d45635-9b8b-48d2-c5c4-e1da36ff6804"
      },
      "source": [
        "from math import sqrt\n",
        "\n",
        "def knn_classification(dataset,queries,k,distance_type='euclidean'):\n",
        "\n",
        "  print('knn_classification')\n",
        "\n",
        "  predictions = []\n",
        "\n",
        "  # For each query\n",
        "  for query in queries:\n",
        "\n",
        "    collection = []\n",
        "\n",
        "    # For each instance in dataset\n",
        "    for features, target in dataset:\n",
        "\n",
        "      # Calculate Distance\n",
        "      distance = 0\n",
        "      if distance_type == 'euclidean':\n",
        "        for instance_feature, query_feature in zip(features,query):\n",
        "          distance = distance + ((instance_feature-query_feature)**2)\n",
        "        distance = sqrt(distance)\n",
        "      elif distance_type == 'manhattan':\n",
        "        for instance_feature, query_feature in zip(features,query):\n",
        "          distance = distance + abs(instance_feature-query_feature)\n",
        "\n",
        "      '''\n",
        "      # Minkowski Distance\n",
        "      distance = 0\n",
        "      p = 2\n",
        "      if distance == 'manhattan':\n",
        "        p=1\n",
        "      elif distance == 'euclidean':\n",
        "        p=2\n",
        "      for instance_feature, query_feature in zip(features,query):\n",
        "        distance = distance + ((instance_feature-query_feature)**p)\n",
        "      distance = distance**(1/p)\n",
        "      '''\n",
        "\n",
        "      # Add Target and Distance to Collection\n",
        "      collection.append([target,distance])\n",
        "\n",
        "    # Sort the collection in ascending order by distance\n",
        "    collection.sort(key = lambda collection: collection[1])\n",
        "\n",
        "    # Get the first k entries from the sorted collection\n",
        "    k_entries = collection[0:k]\n",
        "\n",
        "    # Get the target values of the k_entries\n",
        "    k_labels = [target for target,distance in k_entries]\n",
        "\n",
        "    # Get count of each target\n",
        "    target2count = {}\n",
        "    for target,distance in k_entries:\n",
        "      if target in target2count.keys():\n",
        "        target2count[target] = target2count[target] + 1\n",
        "      else:\n",
        "        target2count[target] = 1\n",
        "\n",
        "    # Prediction is the mode of k_labels i.e target of highest count\n",
        "    prediction = -1\n",
        "    max_count = -1\n",
        "    for target in target2count:\n",
        "      if target2count[target] > max_count:\n",
        "        prediction = target\n",
        "        max_count = target2count[target]\n",
        "\n",
        "    predictions.append(prediction)\n",
        "\n",
        "  return predictions\n",
        "\n",
        "#############################################################\n",
        "\n",
        "dataset = [\n",
        "  ((4,2),1),\n",
        "  ((2,4),1),\n",
        "  ((6,4),1),\n",
        "  ((4,6),1),\n",
        "  ((6,2),0),\n",
        "  ((4,4),0)\n",
        "]\n",
        "\n",
        "queries = [\n",
        "  (6,6)\n",
        "]\n",
        "\n",
        "k = 3\n",
        "\n",
        "#############################################################\n",
        "\n",
        "predictions = knn_classification(k=3,dataset=dataset,queries=queries)\n",
        "for query, prediction in zip(queries, predictions):\n",
        "  print('Query = {query}'.format(query=query))\n",
        "  print('Prediction = {prediction}'.format(prediction=prediction))\n",
        "  print()"
      ],
      "execution_count": 1,
      "outputs": [
        {
          "output_type": "stream",
          "text": [
            "knn_classification\n",
            "Query = (6, 6)\n",
            "Prediction = 1\n",
            "\n"
          ],
          "name": "stdout"
        }
      ]
    },
    {
      "cell_type": "code",
      "metadata": {
        "id": "-LnBpGQ-RFi1",
        "colab": {
          "base_uri": "https://localhost:8080/"
        },
        "outputId": "539ff1f6-dcb1-4658-81f8-d2a9afd50c2c"
      },
      "source": [
        "from math import sqrt\n",
        "\n",
        "def distance_weighted_knn_classification(dataset,queries,k,distance_type='euclidean'):\n",
        "\n",
        "  print('distance_weighted_knn_classification')\n",
        "\n",
        "  predictions = []\n",
        "\n",
        "  # For each query\n",
        "  for query in queries:\n",
        "\n",
        "    collection = []\n",
        "\n",
        "    # For each instance in dataset\n",
        "    for features, target in dataset:\n",
        "\n",
        "      # Calculate Distance\n",
        "      distance = 0\n",
        "      if distance_type == 'euclidean':\n",
        "        for instance_feature, query_feature in zip(features,query):\n",
        "          distance = distance + ((instance_feature-query_feature)**2)\n",
        "        distance = sqrt(distance)\n",
        "      elif distance_type == 'manhattan':\n",
        "        for instance_feature, query_feature in zip(features,query):\n",
        "          distance = distance + abs(instance_feature-query_feature)\n",
        "\n",
        "      # Add Target and Distance to Collection\n",
        "      collection.append([target,distance])\n",
        "\n",
        "    # Sort the collection in ascending order by distance\n",
        "    collection.sort(key = lambda collection: collection[1])\n",
        "\n",
        "    # Get the first k entries from the sorted collection\n",
        "    k_entries = collection[0:k]\n",
        "\n",
        "    # compute weighted Sum of each target\n",
        "    target2weight = {}\n",
        "    c = 0.0001\n",
        "    for target,distance in k_entries:\n",
        "      weight = 1/(distance + c)\n",
        "      if target in target2weight.keys():\n",
        "        target2weight[target] = target2weight[target] + weight\n",
        "      else:\n",
        "        target2weight[target] = weight\n",
        "\n",
        "    # Prediction is the target value with maximum weighted sum\n",
        "    prediction = -1\n",
        "    max_weighted_sum = -1\n",
        "    for target in target2weight:\n",
        "      if target2weight[target] > max_weighted_sum:\n",
        "        prediction = target\n",
        "        max_weighted_sum = target2weight[target]\n",
        "\n",
        "    predictions.append(prediction)\n",
        "\n",
        "  return predictions\n",
        "\n",
        "#############################################################\n",
        "\n",
        "dataset = [\n",
        "  ((4,2),1),\n",
        "  ((2,4),1),\n",
        "  ((6,4),1),\n",
        "  ((4,6),1),\n",
        "  ((6,2),0),\n",
        "  ((4,4),0)\n",
        "]\n",
        "\n",
        "queries = [\n",
        "  (6,6)\n",
        "]\n",
        "\n",
        "k = 3\n",
        "\n",
        "#############################################################\n",
        "\n",
        "predictions = distance_weighted_knn_classification(k=3,dataset=dataset,queries=queries)\n",
        "for query, prediction in zip(queries, predictions):\n",
        "  print('Query = {query}'.format(query=query))\n",
        "  print('Prediction = {prediction}'.format(prediction=prediction))\n",
        "  print()"
      ],
      "execution_count": 2,
      "outputs": [
        {
          "output_type": "stream",
          "text": [
            "distance_weighted_knn_classification\n",
            "Query = (6, 6)\n",
            "Prediction = 1\n",
            "\n"
          ],
          "name": "stdout"
        }
      ]
    },
    {
      "cell_type": "code",
      "metadata": {
        "id": "fSniB-KGO9aJ",
        "colab": {
          "base_uri": "https://localhost:8080/"
        },
        "outputId": "93c5ee74-aef1-4d83-e2b6-35cfd47e6581"
      },
      "source": [
        "#############################################################\n",
        "\n",
        "dataset = [\n",
        "  ((4,2),1),\n",
        "  ((2,4),1),\n",
        "  ((6,4),1),\n",
        "  ((4,6),1),\n",
        "  ((6,2),0),\n",
        "  ((4,4),0)\n",
        "]\n",
        "\n",
        "queries = [\n",
        "  (6,6)\n",
        "]\n",
        "\n",
        "k = 3\n",
        "\n",
        "#############################################################\n",
        "\n",
        "predictions = knn_classification(k=3,dataset=dataset,queries=queries)\n",
        "for query, prediction in zip(queries, predictions):\n",
        "  print('Query = {query}'.format(query=query))\n",
        "  print('Prediction = {prediction}'.format(prediction=prediction))\n",
        "  print()"
      ],
      "execution_count": 3,
      "outputs": [
        {
          "output_type": "stream",
          "text": [
            "knn_classification\n",
            "Query = (6, 6)\n",
            "Prediction = 1\n",
            "\n"
          ],
          "name": "stdout"
        }
      ]
    },
    {
      "cell_type": "code",
      "metadata": {
        "colab": {
          "base_uri": "https://localhost:8080/"
        },
        "id": "2FMO2t8gPIVC",
        "outputId": "c0a095b7-6e2a-40e9-e941-1210a615155b"
      },
      "source": [
        "predictions = knn_classification(k=3,dataset=dataset,queries=queries)\n",
        "for query, prediction in zip(queries, predictions):\n",
        "  print('Query = {query}'.format(query=query))\n",
        "  print('Prediction = {prediction}'.format(prediction=prediction))\n",
        "  print()"
      ],
      "execution_count": 4,
      "outputs": [
        {
          "output_type": "stream",
          "text": [
            "knn_classification\n",
            "Query = (6, 6)\n",
            "Prediction = 1\n",
            "\n"
          ],
          "name": "stdout"
        }
      ]
    },
    {
      "cell_type": "code",
      "metadata": {
        "colab": {
          "base_uri": "https://localhost:8080/"
        },
        "id": "1CSSLg6YU4NR",
        "outputId": "028675a7-3ba8-4591-8381-c4340bd10aef"
      },
      "source": [
        "predictions = distance_weighted_knn_classification(k=3,dataset=dataset,queries=queries)\n",
        "for query, prediction in zip(queries, predictions):\n",
        "  print('Query = {query}'.format(query=query))\n",
        "  print('Prediction = {prediction}'.format(prediction=prediction))\n",
        "  print()"
      ],
      "execution_count": 5,
      "outputs": [
        {
          "output_type": "stream",
          "text": [
            "distance_weighted_knn_classification\n",
            "Query = (6, 6)\n",
            "Prediction = 1\n",
            "\n"
          ],
          "name": "stdout"
        }
      ]
    }
  ]
}